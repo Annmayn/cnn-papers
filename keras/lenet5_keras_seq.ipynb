{
 "cells": [
  {
   "cell_type": "code",
   "execution_count": 4,
   "metadata": {},
   "outputs": [],
   "source": [
    "import tensorflow as tf\n",
    "import h5py\n",
    "import numpy as np\n",
    "import pandas as pd"
   ]
  },
  {
   "cell_type": "markdown",
   "metadata": {},
   "source": [
    "# Implementation of LeNet-5 network"
   ]
  },
  {
   "cell_type": "markdown",
   "metadata": {},
   "source": [
    "Input: 32 X 32 X 1 \n",
    "\n",
    "**Layer 1**: Conv (kernel_size=5, filter=6, stride=1) \n",
    "\n",
    "**Layer 2**: Avg Pool (kernel_size=2, stride=2)\n",
    "\n",
    "**Layer 3**: Conv (kernel_size=5, filter=16, stride=1)\n",
    "\n",
    "**Layer 4**: Avg Pool (kernel_size=2, stride=2)\n",
    "\n",
    "**Layer 5**: Dense (120,)\n",
    "\n",
    "**Layer 6**: Dense (84,)\n",
    "\n",
    "**Layer 7**: Softmax (10,)"
   ]
  },
  {
   "cell_type": "code",
   "execution_count": 9,
   "metadata": {},
   "outputs": [],
   "source": [
    "from tensorflow.keras.models import Sequential\n",
    "from tensorflow.keras.layers import Dense, Flatten, Convolution2D, AvgPool2D"
   ]
  },
  {
   "cell_type": "code",
   "execution_count": 80,
   "metadata": {},
   "outputs": [],
   "source": [
    "model = Sequential()"
   ]
  },
  {
   "cell_type": "code",
   "execution_count": 81,
   "metadata": {},
   "outputs": [],
   "source": [
    "# Size of input changed based on mnist data shape\n",
    "model.add(Convolution2D(filters=6, input_shape=(28,28,1), kernel_size=5, strides=(1,1), padding='valid'))\n",
    "model.add(AvgPool2D(pool_size=(2,2), strides=(2,2), padding='valid'))\n",
    "\n",
    "model.add(Convolution2D(filters=16, kernel_size=5, strides=(1,1), padding='valid'))\n",
    "model.add(AvgPool2D(pool_size=(2,2), strides=(2,2), padding='valid'))\n",
    "\n",
    "model.add(Flatten())\n",
    "model.add(Dense(120, activation='relu'))\n",
    "model.add(Dense(84, activation='relu'))\n",
    "model.add(Dense(10, activation='softmax'))"
   ]
  },
  {
   "cell_type": "code",
   "execution_count": 82,
   "metadata": {
    "scrolled": true
   },
   "outputs": [
    {
     "name": "stdout",
     "output_type": "stream",
     "text": [
      "Model: \"sequential_4\"\n",
      "_________________________________________________________________\n",
      "Layer (type)                 Output Shape              Param #   \n",
      "=================================================================\n",
      "conv2d_7 (Conv2D)            (None, 24, 24, 6)         156       \n",
      "_________________________________________________________________\n",
      "average_pooling2d_6 (Average (None, 12, 12, 6)         0         \n",
      "_________________________________________________________________\n",
      "conv2d_8 (Conv2D)            (None, 8, 8, 16)          2416      \n",
      "_________________________________________________________________\n",
      "average_pooling2d_7 (Average (None, 4, 4, 16)          0         \n",
      "_________________________________________________________________\n",
      "flatten_3 (Flatten)          (None, 256)               0         \n",
      "_________________________________________________________________\n",
      "dense_9 (Dense)              (None, 120)               30840     \n",
      "_________________________________________________________________\n",
      "dense_10 (Dense)             (None, 84)                10164     \n",
      "_________________________________________________________________\n",
      "dense_11 (Dense)             (None, 10)                850       \n",
      "=================================================================\n",
      "Total params: 44,426\n",
      "Trainable params: 44,426\n",
      "Non-trainable params: 0\n",
      "_________________________________________________________________\n"
     ]
    }
   ],
   "source": [
    "model.summary()"
   ]
  },
  {
   "cell_type": "code",
   "execution_count": 83,
   "metadata": {},
   "outputs": [],
   "source": [
    "model.compile(loss='categorical_crossentropy', optimizer='adam', metrics=['accuracy','mse'])"
   ]
  },
  {
   "cell_type": "markdown",
   "metadata": {},
   "source": [
    "## Training the model for MNIST database"
   ]
  },
  {
   "cell_type": "code",
   "execution_count": 56,
   "metadata": {},
   "outputs": [],
   "source": [
    "import matplotlib.pyplot as plt\n",
    "from sklearn.preprocessing import OneHotEncoder"
   ]
  },
  {
   "cell_type": "code",
   "execution_count": 27,
   "metadata": {},
   "outputs": [],
   "source": [
    "from tensorflow.keras.datasets import mnist"
   ]
  },
  {
   "cell_type": "code",
   "execution_count": 28,
   "metadata": {},
   "outputs": [],
   "source": [
    "(X_train, y_train), (X_test, y_test) = mnist.load_data()"
   ]
  },
  {
   "cell_type": "code",
   "execution_count": 39,
   "metadata": {},
   "outputs": [
    {
     "data": {
      "text/plain": [
       "(60000, 28, 28)"
      ]
     },
     "execution_count": 39,
     "metadata": {},
     "output_type": "execute_result"
    }
   ],
   "source": [
    "X_train.shape"
   ]
  },
  {
   "cell_type": "code",
   "execution_count": 42,
   "metadata": {},
   "outputs": [],
   "source": [
    "X_train.resize((*X_train.shape,1))"
   ]
  },
  {
   "cell_type": "code",
   "execution_count": 77,
   "metadata": {},
   "outputs": [],
   "source": [
    "X_test.resize((*X_test.shape,1))"
   ]
  },
  {
   "cell_type": "code",
   "execution_count": 43,
   "metadata": {},
   "outputs": [
    {
     "data": {
      "text/plain": [
       "(60000, 28, 28, 1)"
      ]
     },
     "execution_count": 43,
     "metadata": {},
     "output_type": "execute_result"
    }
   ],
   "source": [
    "X_train.shape"
   ]
  },
  {
   "cell_type": "code",
   "execution_count": 54,
   "metadata": {},
   "outputs": [
    {
     "data": {
      "text/plain": [
       "(60000,)"
      ]
     },
     "execution_count": 54,
     "metadata": {},
     "output_type": "execute_result"
    }
   ],
   "source": [
    "y_train.shape"
   ]
  },
  {
   "cell_type": "code",
   "execution_count": 57,
   "metadata": {},
   "outputs": [],
   "source": [
    "one_hot = OneHotEncoder()"
   ]
  },
  {
   "cell_type": "code",
   "execution_count": 66,
   "metadata": {},
   "outputs": [],
   "source": [
    "y_train_class = one_hot.fit_transform(y_train.reshape(-1,1))\n",
    "y_test_class = one_hot.transform(y_test.reshape(-1,1))"
   ]
  },
  {
   "cell_type": "code",
   "execution_count": 71,
   "metadata": {},
   "outputs": [],
   "source": [
    "y_train_class = y_train_class.toarray()\n",
    "y_test_class = y_test_class.toarray()"
   ]
  },
  {
   "cell_type": "code",
   "execution_count": 72,
   "metadata": {},
   "outputs": [
    {
     "data": {
      "text/plain": [
       "(60000, 10)"
      ]
     },
     "execution_count": 72,
     "metadata": {},
     "output_type": "execute_result"
    }
   ],
   "source": [
    "y_train_class.shape"
   ]
  },
  {
   "cell_type": "code",
   "execution_count": 73,
   "metadata": {},
   "outputs": [
    {
     "data": {
      "text/plain": [
       "<matplotlib.image.AxesImage at 0x7febb527a050>"
      ]
     },
     "execution_count": 73,
     "metadata": {},
     "output_type": "execute_result"
    },
    {
     "data": {
      "image/png": "[encoded data removed]",
      "text/plain": [
       "<Figure size 432x288 with 1 Axes>"
      ]
     },
     "metadata": {
      "needs_background": "light"
     },
     "output_type": "display_data"
    }
   ],
   "source": [
    "plt.imshow(X_train[0].reshape(X_train.shape[1:3]))"
   ]
  },
  {
   "cell_type": "code",
   "execution_count": 84,
   "metadata": {
    "scrolled": true
   },
   "outputs": [
    {
     "name": "stdout",
     "output_type": "stream",
     "text": [
      "Train on 60000 samples\n",
      "Epoch 1/20\n",
      "60000/60000 [==============================] - 11s 183us/sample - loss: 0.4228 - accuracy: 0.9147 - mse: 0.0134\n",
      "Epoch 2/20\n",
      "60000/60000 [==============================] - 10s 175us/sample - loss: 0.1630 - accuracy: 0.9524 - mse: 0.0073\n",
      "Epoch 3/20\n",
      "60000/60000 [==============================] - 10s 174us/sample - loss: 0.1343 - accuracy: 0.9596 - mse: 0.0061\n",
      "Epoch 4/20\n",
      "60000/60000 [==============================] - 11s 183us/sample - loss: 0.1162 - accuracy: 0.9657 - mse: 0.0053\n",
      "Epoch 5/20\n",
      "60000/60000 [==============================] - 11s 182us/sample - loss: 0.1027 - accuracy: 0.9695 - mse: 0.0047\n",
      "Epoch 6/20\n",
      "60000/60000 [==============================] - 11s 189us/sample - loss: 0.0948 - accuracy: 0.9707 - mse: 0.0044\n",
      "Epoch 7/20\n",
      "60000/60000 [==============================] - 11s 186us/sample - loss: 0.0850 - accuracy: 0.9742 - mse: 0.0040\n",
      "Epoch 8/20\n",
      "60000/60000 [==============================] - 11s 185us/sample - loss: 0.0819 - accuracy: 0.9761 - mse: 0.0037\n",
      "Epoch 9/20\n",
      "60000/60000 [==============================] - 11s 186us/sample - loss: 0.0747 - accuracy: 0.9771 - mse: 0.0035\n",
      "Epoch 10/20\n",
      "60000/60000 [==============================] - 13s 209us/sample - loss: 0.0731 - accuracy: 0.9781 - mse: 0.0033\n",
      "Epoch 11/20\n",
      "60000/60000 [==============================] - 12s 206us/sample - loss: 0.0706 - accuracy: 0.9794 - mse: 0.0032\n",
      "Epoch 12/20\n",
      "60000/60000 [==============================] - 12s 193us/sample - loss: 0.0655 - accuracy: 0.9803 - mse: 0.0030\n",
      "Epoch 13/20\n",
      "60000/60000 [==============================] - 11s 191us/sample - loss: 0.0654 - accuracy: 0.9807 - mse: 0.0030\n",
      "Epoch 14/20\n",
      "60000/60000 [==============================] - 12s 194us/sample - loss: 0.0644 - accuracy: 0.9812 - mse: 0.0029\n",
      "Epoch 15/20\n",
      "60000/60000 [==============================] - 11s 189us/sample - loss: 0.0619 - accuracy: 0.9818 - mse: 0.0028\n",
      "Epoch 16/20\n",
      "60000/60000 [==============================] - 12s 195us/sample - loss: 0.0614 - accuracy: 0.9828 - mse: 0.0027\n",
      "Epoch 17/20\n",
      "60000/60000 [==============================] - 12s 200us/sample - loss: 0.0586 - accuracy: 0.9834 - mse: 0.0026\n",
      "Epoch 18/20\n",
      "60000/60000 [==============================] - 12s 198us/sample - loss: 0.0570 - accuracy: 0.9837 - mse: 0.0025\n",
      "Epoch 19/20\n",
      "60000/60000 [==============================] - 12s 199us/sample - loss: 0.0557 - accuracy: 0.9845 - mse: 0.0025\n",
      "Epoch 20/20\n",
      "60000/60000 [==============================] - 12s 198us/sample - loss: 0.0555 - accuracy: 0.9843 - mse: 0.0024\n"
     ]
    },
    {
     "data": {
      "text/plain": [
       "<tensorflow.python.keras.callbacks.History at 0x7feb66d7cfd0>"
      ]
     },
     "execution_count": 84,
     "metadata": {},
     "output_type": "execute_result"
    }
   ],
   "source": [
    "model.fit(X_train, y_train_class, epochs=20)"
   ]
  },
  {
   "cell_type": "code",
   "execution_count": 85,
   "metadata": {},
   "outputs": [
    {
     "name": "stdout",
     "output_type": "stream",
     "text": [
      "10000/10000 [==============================] - 1s 90us/sample - loss: 0.1065 - accuracy: 0.9768 - mse: 0.0038\n"
     ]
    },
    {
     "data": {
      "text/plain": [
       "[0.10650579230999356, 0.9768, 0.003806398]"
      ]
     },
     "execution_count": 85,
     "metadata": {},
     "output_type": "execute_result"
    }
   ],
   "source": [
    "model.evaluate(X_test, y_test_class)"
   ]
  }
 ],
 "metadata": {
  "kernelspec": {
   "display_name": "Python 3.7.7 64-bit ('ml': conda)",
   "language": "python",
   "name": "python37764bitmlconda1cc93a718d6a4196868e7f002bb8e569"
  },
  "language_info": {
   "codemirror_mode": {
    "name": "ipython",
    "version": 3
   },
   "file_extension": ".py",
   "mimetype": "text/x-python",
   "name": "python",
   "nbconvert_exporter": "python",
   "pygments_lexer": "ipython3",
   "version": "3.7.7"
  }
 },
 "nbformat": 4,
 "nbformat_minor": 4
}
